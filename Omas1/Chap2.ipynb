{
 "cells": [
  {
   "cell_type": "markdown",
   "metadata": {},
   "source": [
    "P30-51"
   ]
  },
  {
   "cell_type": "markdown",
   "metadata": {},
   "source": [
    "・整数を使った計算"
   ]
  },
  {
   "cell_type": "code",
   "execution_count": 1,
   "metadata": {},
   "outputs": [
    {
     "name": "stdout",
     "output_type": "stream",
     "text": [
      "341\n",
      "253\n"
     ]
    }
   ],
   "source": [
    "a,b = 341,253\n",
    "a,b = max(a,b),min(a,b)\n",
    "\n",
    "while True:\n",
    "    if a != 0:\n",
    "        print(a)\n",
    "        break\n",
    "    b,a = a % b,b\n",
    "\n",
    "print(b)"
   ]
  },
  {
   "cell_type": "markdown",
   "metadata": {},
   "source": [
    "・23(10進数)の2進数表記を得るコード"
   ]
  },
  {
   "cell_type": "code",
   "execution_count": 2,
   "metadata": {},
   "outputs": [
    {
     "name": "stdout",
     "output_type": "stream",
     "text": [
      "10111\n"
     ]
    }
   ],
   "source": [
    "b23 = \"\"\n",
    "a = 23\n",
    "while a != 0:\n",
    "    a,r = divmod(a,2)\n",
    "    b23 = str(r) + b23\n",
    "print(b23)"
   ]
  }
 ],
 "metadata": {
  "kernelspec": {
   "display_name": "Python 3",
   "language": "python",
   "name": "python3"
  },
  "language_info": {
   "codemirror_mode": {
    "name": "ipython",
    "version": 3
   },
   "file_extension": ".py",
   "mimetype": "text/x-python",
   "name": "python",
   "nbconvert_exporter": "python",
   "pygments_lexer": "ipython3",
   "version": "3.8.5"
  }
 },
 "nbformat": 4,
 "nbformat_minor": 4
}
