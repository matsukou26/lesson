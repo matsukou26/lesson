{
 "cells": [
  {
   "cell_type": "markdown",
   "metadata": {},
   "source": [
    "# ループ"
   ]
  },
  {
   "cell_type": "markdown",
   "metadata": {},
   "source": [
    "forループ"
   ]
  },
  {
   "cell_type": "code",
   "execution_count": 1,
   "metadata": {},
   "outputs": [
    {
     "name": "stdout",
     "output_type": "stream",
     "text": [
      "T\n",
      "e\n",
      "d\n"
     ]
    }
   ],
   "source": [
    "name = \"Ted\"\n",
    "for character in name:\n",
    "    print(character)"
   ]
  },
  {
   "cell_type": "code",
   "execution_count": 2,
   "metadata": {},
   "outputs": [
    {
     "name": "stdout",
     "output_type": "stream",
     "text": [
      "GOT\n",
      "Narcos\n",
      "Vice\n"
     ]
    }
   ],
   "source": [
    "shows = [\"GOT\",\"Narcos\",\"Vice\"]\n",
    "for show in shows:\n",
    "    print(show)"
   ]
  },
  {
   "cell_type": "code",
   "execution_count": 3,
   "metadata": {},
   "outputs": [
    {
     "name": "stdout",
     "output_type": "stream",
     "text": [
      "A.Development\n",
      "Friends\n",
      "Always Sunny\n"
     ]
    }
   ],
   "source": [
    "coms = (\"A.Development\",\"Friends\",\"Always Sunny\")\n",
    "for show in coms:\n",
    "    print(show)"
   ]
  },
  {
   "cell_type": "code",
   "execution_count": 8,
   "metadata": {},
   "outputs": [
    {
     "name": "stdout",
     "output_type": "stream",
     "text": [
      "G.Bluth II\n",
      "Barney\n",
      "Dennis\n"
     ]
    }
   ],
   "source": [
    "people = {\"G.Bluth II\":\"A.Development\",\n",
    "         \"Barney\":\"HIMYM\",\n",
    "         \"Dennis\":\"Always Sunny\",\n",
    "         }\n",
    "\n",
    "for character in people:\n",
    "    print(character)"
   ]
  },
  {
   "cell_type": "code",
   "execution_count": 9,
   "metadata": {},
   "outputs": [
    {
     "name": "stdout",
     "output_type": "stream",
     "text": [
      "['GOT', 'NARCOS', 'VICE']\n"
     ]
    }
   ],
   "source": [
    "tv = [\"GOT\",\"Narcos\",\"Vice\"]\n",
    "i = 0\n",
    "\n",
    "for show in tv:\n",
    "    new = tv[i]\n",
    "    new = new.upper()\n",
    "    tv[i] = new\n",
    "    i += 1\n",
    "    \n",
    "print(tv)"
   ]
  },
  {
   "cell_type": "code",
   "execution_count": 10,
   "metadata": {},
   "outputs": [
    {
     "name": "stdout",
     "output_type": "stream",
     "text": [
      "['GOT', 'NARCOS', 'VICE']\n"
     ]
    }
   ],
   "source": [
    "tv = [\"GOT\",\"Narcos\",\"Vice\"]\n",
    "for i,new in enumerate(tv):\n",
    "    new = tv[i]\n",
    "    new = new.upper()\n",
    "    tv[i] = new\n",
    "    \n",
    "print(tv)"
   ]
  },
  {
   "cell_type": "code",
   "execution_count": 11,
   "metadata": {},
   "outputs": [
    {
     "name": "stdout",
     "output_type": "stream",
     "text": [
      "['GOT', 'NARCOS', 'VICE', 'ARRESTED DEVELOPMENT', 'FRIENDS', 'ALWAYS SUNNY']\n"
     ]
    }
   ],
   "source": [
    "tv = [\"GOT\",\"Narcos\",\"Vice\"]\n",
    "coms = [\"Arrested Development\",\"friends\",\"Always Sunny\"]\n",
    "all_shows = []\n",
    "\n",
    "for show in tv:\n",
    "    show = show.upper()\n",
    "    all_shows.append(show)\n",
    "\n",
    "for show in coms:\n",
    "    show = show.upper()\n",
    "    all_shows.append(show)\n",
    "    \n",
    "print(all_shows)"
   ]
  },
  {
   "cell_type": "markdown",
   "metadata": {},
   "source": [
    "range"
   ]
  },
  {
   "cell_type": "code",
   "execution_count": 12,
   "metadata": {},
   "outputs": [
    {
     "name": "stdout",
     "output_type": "stream",
     "text": [
      "1\n",
      "2\n",
      "3\n",
      "4\n",
      "5\n",
      "6\n",
      "7\n",
      "8\n",
      "9\n",
      "10\n"
     ]
    }
   ],
   "source": [
    "for i in range(1,11):\n",
    "    print(i)"
   ]
  },
  {
   "cell_type": "markdown",
   "metadata": {},
   "source": [
    "whileループ"
   ]
  },
  {
   "cell_type": "code",
   "execution_count": 13,
   "metadata": {},
   "outputs": [
    {
     "name": "stdout",
     "output_type": "stream",
     "text": [
      "10\n",
      "9\n",
      "8\n",
      "7\n",
      "6\n",
      "5\n",
      "4\n",
      "3\n",
      "2\n",
      "1\n",
      "Happy New Year!\n"
     ]
    }
   ],
   "source": [
    "x = 10\n",
    "while x > 0:\n",
    "    print('{}'.format(x))\n",
    "    x -= 1\n",
    "print(\"Happy New Year!\")"
   ]
  },
  {
   "cell_type": "markdown",
   "metadata": {},
   "source": [
    "break文"
   ]
  },
  {
   "cell_type": "code",
   "execution_count": 14,
   "metadata": {
    "scrolled": true
   },
   "outputs": [
    {
     "name": "stdout",
     "output_type": "stream",
     "text": [
      "0\n"
     ]
    }
   ],
   "source": [
    "for i in range(0,100):\n",
    "    print(i)\n",
    "    break"
   ]
  },
  {
   "cell_type": "code",
   "execution_count": null,
   "metadata": {},
   "outputs": [
    {
     "name": "stdout",
     "output_type": "stream",
     "text": [
      "Type q to quit\n",
      "What is your name?Kouta\n",
      "Type q to quit\n",
      "What is your fav.color?purple\n",
      "Type q to quit\n",
      "What is your quest?aaa\n",
      "Type q to quit\n"
     ]
    }
   ],
   "source": [
    "qs = [\"What is your name?\",\n",
    "     \"What is your fav.color?\",\n",
    "     \"What is your quest?\"]\n",
    "n = 0\n",
    "while True:\n",
    "    print(\"Type q to quit\")\n",
    "    a = input(qs[n])\n",
    "    if a == \"q\":\n",
    "        break\n",
    "    n = (n + 1) % 3"
   ]
  },
  {
   "cell_type": "markdown",
   "metadata": {},
   "source": [
    "continue文"
   ]
  },
  {
   "cell_type": "code",
   "execution_count": 1,
   "metadata": {},
   "outputs": [
    {
     "name": "stdout",
     "output_type": "stream",
     "text": [
      "1\n",
      "2\n",
      "4\n",
      "5\n"
     ]
    }
   ],
   "source": [
    "for i in range(1,6):\n",
    "    if i == 3:\n",
    "        continue\n",
    "    print(i)"
   ]
  },
  {
   "cell_type": "markdown",
   "metadata": {},
   "source": [
    "※whileループ版"
   ]
  },
  {
   "cell_type": "code",
   "execution_count": 2,
   "metadata": {},
   "outputs": [
    {
     "name": "stdout",
     "output_type": "stream",
     "text": [
      "1\n",
      "2\n",
      "4\n",
      "5\n"
     ]
    }
   ],
   "source": [
    "i = 1\n",
    "while i <= 5:\n",
    "    if i == 3:\n",
    "        i += 1\n",
    "        continue\n",
    "    print(i)\n",
    "    i += 1"
   ]
  },
  {
   "cell_type": "markdown",
   "metadata": {},
   "source": [
    "入れ子のループ"
   ]
  },
  {
   "cell_type": "code",
   "execution_count": 3,
   "metadata": {
    "scrolled": true
   },
   "outputs": [
    {
     "name": "stdout",
     "output_type": "stream",
     "text": [
      "1\n",
      "a\n",
      "b\n",
      "c\n",
      "2\n",
      "a\n",
      "b\n",
      "c\n"
     ]
    }
   ],
   "source": [
    "for i in range(1,3):\n",
    "    print(i)\n",
    "    for letter in[\"a\",\"b\",\"c\"]:\n",
    "        print(letter)"
   ]
  },
  {
   "cell_type": "code",
   "execution_count": 4,
   "metadata": {},
   "outputs": [
    {
     "name": "stdout",
     "output_type": "stream",
     "text": [
      "[6, 7, 8, 9, 7, 8, 9, 10, 8, 9, 10, 11, 9, 10, 11, 12]\n"
     ]
    }
   ],
   "source": [
    "list1 = [1,2,3,4]\n",
    "list2 = [5,6,7,8]\n",
    "added = []\n",
    "for i in list1:\n",
    "    for j in list2:\n",
    "        added.append(i + j)\n",
    "        \n",
    "print(added)"
   ]
  },
  {
   "cell_type": "markdown",
   "metadata": {},
   "source": [
    "forループをwhileループの中に入れ子にできる(逆も可）"
   ]
  },
  {
   "cell_type": "code",
   "execution_count": null,
   "metadata": {},
   "outputs": [
    {
     "name": "stdout",
     "output_type": "stream",
     "text": [
      "y or n?y\n",
      "1\n",
      "2\n",
      "3\n",
      "4\n",
      "5\n",
      "y or n?n7\n",
      "1\n",
      "2\n",
      "3\n",
      "4\n",
      "5\n"
     ]
    }
   ],
   "source": [
    "while input('y or n?') != 'n':\n",
    "    for i in range(1,6):\n",
    "        print(i)"
   ]
  }
 ],
 "metadata": {
  "kernelspec": {
   "display_name": "Python 3",
   "language": "python",
   "name": "python3"
  },
  "language_info": {
   "codemirror_mode": {
    "name": "ipython",
    "version": 3
   },
   "file_extension": ".py",
   "mimetype": "text/x-python",
   "name": "python",
   "nbconvert_exporter": "python",
   "pygments_lexer": "ipython3",
   "version": "3.8.5"
  }
 },
 "nbformat": 4,
 "nbformat_minor": 4
}
